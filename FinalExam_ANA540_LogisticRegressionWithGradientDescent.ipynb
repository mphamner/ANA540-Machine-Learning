{
 "cells": [
  {
   "cell_type": "markdown",
   "id": "edfcf6e4",
   "metadata": {},
   "source": [
    "# ANA 540 Final Examination - Logistic Regression with gradient descent"
   ]
  },
  {
   "cell_type": "code",
   "execution_count": 70,
   "id": "f29a26e0",
   "metadata": {},
   "outputs": [],
   "source": [
    "import numpy as np \n",
    "from numpy import log,dot,e,shape\n",
    "import matplotlib.pyplot as plt"
   ]
  },
  {
   "cell_type": "code",
   "execution_count": 71,
   "id": "5e55f5d3",
   "metadata": {},
   "outputs": [],
   "source": [
    "#Import the data\n",
    "from sklearn.datasets import make_classification\n",
    "X,y = make_classification()\n",
    "from sklearn.model_selection import train_test_split  \n",
    "X_tr,X_te,y_tr,y_te = train_test_split(X,y,test_size=0.1)"
   ]
  },
  {
   "cell_type": "code",
   "execution_count": 72,
   "id": "3a2d31e2",
   "metadata": {},
   "outputs": [],
   "source": [
    "#Standardization\n",
    "def standardize(X_tr):\n",
    "    for i in range(shape(X_tr)[1]):\n",
    "        X_tr[:,i] = (X_tr[:,i] - np.mean(X_tr[:,i]))/np.std(X_tr[:,i])"
   ]
  },
  {
   "cell_type": "code",
   "execution_count": 73,
   "id": "af7fe01a",
   "metadata": {},
   "outputs": [],
   "source": [
    "#Initialize parameters\n",
    "def initialize(self,X):\n",
    "    weights = np.zeros((shape(X)[1]+1,1))\n",
    "    X = np.c_[np.ones((shape(X)[0],1)),X]\n",
    "    return weights,X"
   ]
  },
  {
   "cell_type": "code",
   "execution_count": 74,
   "id": "f2d3b2ef",
   "metadata": {},
   "outputs": [],
   "source": [
    "#Signmoid Function\n",
    "def sigmoid(self,z):\n",
    "    sig = 1/(1+e**(-z))\n",
    "    return sig"
   ]
  },
  {
   "cell_type": "code",
   "execution_count": 75,
   "id": "e0857f9e",
   "metadata": {},
   "outputs": [],
   "source": [
    "#Cost Function\n",
    "def cost(theta):\n",
    "    z = dot(X,theta)\n",
    "    cost0 = y.T.dot(log(self.sigmoid(z)))\n",
    "    cost1 = (1-y).T.dot(log(1-self.sigmoid(z)))\n",
    "    cost = -((cost1 + cost0))/len(y) \n",
    "    return cost"
   ]
  },
  {
   "cell_type": "code",
   "execution_count": 76,
   "id": "bf8a1ca8",
   "metadata": {},
   "outputs": [],
   "source": [
    "#Use Gradient Descent to train the model\n",
    "#********Here is where we can change values of hyperparameters such as alpha********\n",
    "def fit(self,X,y,alpha=0.001,iter=400):\n",
    "    weights,X = self.initialize(X)\n",
    "    costs_list = np.zeros(iter,)\n",
    "    for i in range(iter):\n",
    "        params = params - alpha * dot(X.T, self.sigmoid(dot(X,params)) - np.reshape(y,(len(y),1)))\n",
    "        costs_list[i] = cost(params)\n",
    "    self.params = params\n",
    "    return costs_list"
   ]
  },
  {
   "cell_type": "code",
   "execution_count": 77,
   "id": "34b3f8d7",
   "metadata": {},
   "outputs": [],
   "source": [
    "#Now use the model to make predictions\n",
    "def predict(self,X):\n",
    "    z = dot(self.initialize(X)[1],self.weights)\n",
    "    lis = []\n",
    "    for i in self.sigmoid(z):\n",
    "        if i>0.5:\n",
    "            lis.append(1)\n",
    "        else:\n",
    "            lis.append(0)\n",
    "    return lis"
   ]
  },
  {
   "cell_type": "code",
   "execution_count": 78,
   "id": "060877d9",
   "metadata": {},
   "outputs": [],
   "source": [
    "#Evaluate how well the model performs\n",
    "def f1_score(y,y_hat):\n",
    "    tp,tn,fp,fn = 0,0,0,0\n",
    "    for i in range(len(y)):\n",
    "        if y[i] == 1 and y_hat[i] == 1:\n",
    "            tp += 1\n",
    "        elif y[i] == 1 and y_hat[i] == 0:\n",
    "            fn += 1\n",
    "        elif y[i] == 0 and y_hat[i] == 1:\n",
    "            fp += 1\n",
    "        elif y[i] == 0 and y_hat[i] == 0:\n",
    "            tn += 1\n",
    "    precision = tp/(tp+fp)\n",
    "    recall = tp/(tp+fn)\n",
    "    f1_score = 2*precision*recall/(precision+recall)\n",
    "    return f1_score"
   ]
  },
  {
   "cell_type": "code",
   "execution_count": 79,
   "id": "950b9c39",
   "metadata": {},
   "outputs": [
    {
     "name": "stdout",
     "output_type": "stream",
     "text": [
      "              precision    recall  f1-score   support\n",
      "\n",
      "           0       1.00      0.62      0.77         8\n",
      "           1       0.40      1.00      0.57         2\n",
      "\n",
      "    accuracy                           0.70        10\n",
      "   macro avg       0.70      0.81      0.67        10\n",
      "weighted avg       0.88      0.70      0.73        10\n",
      "\n"
     ]
    }
   ],
   "source": [
    "#Run the code\n",
    "from sklearn.linear_model import LogisticRegression\n",
    "from sklearn.metrics import accuracy_score, confusion_matrix, classification_report\n",
    "from sklearn.metrics import precision_score, recall_score, f1_score\n",
    "\n",
    "standardize(X_tr)\n",
    "standardize(X_te)\n",
    "obj1 = LogisticRegression()\n",
    "model= obj1.fit(X_tr,y_tr)\n",
    "\n",
    "\n",
    "y_pred = obj1.predict(X_te)\n",
    "y_train = obj1.predict(X_tr)\n",
    "\n",
    "#Let's see the f1-score for training and testing data\n",
    "print(classification_report(y_te, y_pred))"
   ]
  },
  {
   "cell_type": "code",
   "execution_count": 80,
   "id": "469dd5f5",
   "metadata": {},
   "outputs": [
    {
     "name": "stdout",
     "output_type": "stream",
     "text": [
      "0.5714285714285715\n"
     ]
    }
   ],
   "source": [
    "from sklearn.linear_model import LogisticRegression\n",
    "from sklearn.metrics import f1_score\n",
    "model = LogisticRegression().fit(X_tr,y_tr)\n",
    "y_pred = model.predict(X_te)\n",
    "print(f1_score(y_te,y_pred))"
   ]
  },
  {
   "cell_type": "code",
   "execution_count": null,
   "id": "fc9a9a52",
   "metadata": {},
   "outputs": [],
   "source": []
  }
 ],
 "metadata": {
  "kernelspec": {
   "display_name": "Python 3 (ipykernel)",
   "language": "python",
   "name": "python3"
  },
  "language_info": {
   "codemirror_mode": {
    "name": "ipython",
    "version": 3
   },
   "file_extension": ".py",
   "mimetype": "text/x-python",
   "name": "python",
   "nbconvert_exporter": "python",
   "pygments_lexer": "ipython3",
   "version": "3.9.13"
  }
 },
 "nbformat": 4,
 "nbformat_minor": 5
}
